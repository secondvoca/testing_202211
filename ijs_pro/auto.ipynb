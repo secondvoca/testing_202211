{
 "cells": [
  {
   "cell_type": "code",
   "execution_count": null,
   "metadata": {},
   "outputs": [],
   "source": [
    "from torchvision.datasets import FashionMNIST\n",
    "from torchvision.transforms import ToTensor\n",
    "\n",
    "train = FashionMNIST(root='data',\n",
    "                     train=True,\n",
    "                     transform=ToTensor(),\n",
    "                     download=True)\n",
    "test = FashionMNIST(root='data',\n",
    "                    train=False,\n",
    "                    transform=ToTensor(),\n",
    "                    download=True)"
   ]
  },
  {
   "cell_type": "code",
   "execution_count": 8,
   "metadata": {},
   "outputs": [],
   "source": [
    "# making a class that provides data of 2 classes\n",
    "class DataProvider:\n",
    "  def __init__(self, train, test) -> None:\n",
    "    self.train = train\n",
    "    self.test = test\n",
    "\n",
    "  def getTwoClasses(self, first: int, second: int):\n",
    "    first_train_mask = self.train.targets == first\n",
    "    first_train_data = self.train.data[first_train_mask]\n",
    "\n",
    "    second_train_mask = self.train.targets == second\n",
    "    second_train_data = self.train.data[second_train_mask]\n",
    "\n",
    "    first_test_mask = self.test.targets == first\n",
    "    first_test_data = self.test.data[first_test_mask]\n",
    "\n",
    "    second_test_mask = self.test.targets == second\n",
    "    second_test_data = self.test.data[second_test_mask]\n",
    "    return first_train_data, second_train_data, first_test_data, second_test_data"
   ]
  },
  {
   "cell_type": "code",
   "execution_count": 9,
   "metadata": {},
   "outputs": [],
   "source": [
    "dp = DataProvider(train, test)"
   ]
  },
  {
   "cell_type": "code",
   "execution_count": 11,
   "metadata": {},
   "outputs": [],
   "source": [
    "dress_train, coat_train, dress_test, coat_test = dp.getTwoClasses(3, 4)"
   ]
  },
  {
   "cell_type": "code",
   "execution_count": 1,
   "metadata": {},
   "outputs": [],
   "source": [
    "import torch\n",
    "import torch.nn as nn"
   ]
  },
  {
   "cell_type": "code",
   "execution_count": 27,
   "metadata": {},
   "outputs": [
    {
     "name": "stdout",
     "output_type": "stream",
     "text": [
      "torch.Size([1, 1, 28, 28])\n",
      "torch.Size([1, 16, 26, 26])\n",
      "torch.Size([1, 16, 26, 26])\n",
      "torch.Size([1, 16, 13, 13])\n"
     ]
    }
   ],
   "source": [
    "conv0 = nn.Conv2d(1, 16, 3, 1)\n",
    "sample_x = dress_train[0].reshape(-1, 1, 28, 28) / 255.0\n",
    "print(sample_x.shape)\n",
    "y0 = conv0(sample_x)\n",
    "print(y0.shape)\n",
    "relu0 = nn.ReLU()\n",
    "y1 = relu0(y0)\n",
    "print(y1.shape)\n",
    "max0 = nn.MaxPool2d(2)\n",
    "y2 = max0(y1)\n",
    "print(y2.shape)"
   ]
  },
  {
   "cell_type": "code",
   "execution_count": 40,
   "metadata": {},
   "outputs": [],
   "source": [
    "class MyNet(nn.Module):\n",
    "  def __init__(self, in_width=28, in_height=28, in_channels=1) -> None:\n",
    "    super().__init__()\n",
    "    self.nn = nn.Sequential(\n",
    "      nn.Conv2d(in_channels, 16, 3),\n",
    "      nn.ReLU(),\n",
    "      nn.MaxPool2d(2),\n",
    "      nn.Conv2d(16, 32, 3),\n",
    "      nn.ReLU(),\n",
    "      nn.MaxPool2d(2),\n",
    "      nn.Conv2d(32, 64, 3),\n",
    "      nn.Flatten(),\n",
    "      nn.Linear(64*3*3, 16),\n",
    "      nn.ReLU(),\n",
    "      nn.Linear(16, 2),\n",
    "      nn.Softmax(dim=1)\n",
    "    )\n",
    "\n",
    "  def forward(self, x):\n",
    "    return self.nn(x)"
   ]
  },
  {
   "cell_type": "code",
   "execution_count": 41,
   "metadata": {},
   "outputs": [
    {
     "name": "stdout",
     "output_type": "stream",
     "text": [
      "MyNet(\n",
      "  (nn): Sequential(\n",
      "    (0): Conv2d(1, 16, kernel_size=(3, 3), stride=(1, 1))\n",
      "    (1): ReLU()\n",
      "    (2): MaxPool2d(kernel_size=2, stride=2, padding=0, dilation=1, ceil_mode=False)\n",
      "    (3): Conv2d(16, 32, kernel_size=(3, 3), stride=(1, 1))\n",
      "    (4): ReLU()\n",
      "    (5): MaxPool2d(kernel_size=2, stride=2, padding=0, dilation=1, ceil_mode=False)\n",
      "    (6): Conv2d(32, 64, kernel_size=(3, 3), stride=(1, 1))\n",
      "    (7): Flatten(start_dim=1, end_dim=-1)\n",
      "    (8): Linear(in_features=576, out_features=16, bias=True)\n",
      "    (9): ReLU()\n",
      "    (10): Linear(in_features=16, out_features=2, bias=True)\n",
      "    (11): Softmax(dim=1)\n",
      "  )\n",
      ")\n"
     ]
    }
   ],
   "source": [
    "model = MyNet()\n",
    "print(model)"
   ]
  },
  {
   "cell_type": "code",
   "execution_count": 44,
   "metadata": {},
   "outputs": [],
   "source": [
    "from torch.utils.data import Dataset"
   ]
  },
  {
   "cell_type": "code",
   "execution_count": 54,
   "metadata": {},
   "outputs": [],
   "source": [
    "class MyDataset(Dataset):\n",
    "  def __init__(self, train_1, train_2) -> None:\n",
    "    t1 = train_1.reshape(-1, 1, 28, 28) / 255.0\n",
    "    t2 = train_2.reshape(-1, 1, 28, 28) / 255.0\n",
    "    l1 = torch.zeros(t1.shape[0], dtype=torch.int64)\n",
    "    l2 = torch.zeros(t2.shape[0], dtype=torch.int64)\n",
    "    t = torch.cat((t1, t2), 0)\n",
    "    l = torch.cat((l1, l2), 0)\n",
    "    r = torch.randperm(len(l))\n",
    "    self.data = t[r]\n",
    "    self.target = l[r]\n",
    "\n",
    "  def __len__(self):\n",
    "    return len(self.target)\n",
    "\n",
    "  def __getitem__(self, index):\n",
    "    return self.data[index], self.target[index]"
   ]
  },
  {
   "cell_type": "code",
   "execution_count": 68,
   "metadata": {},
   "outputs": [],
   "source": [
    "train_dataset = MyDataset(dress_train[:250], coat_train[:250])\n",
    "test_dataset = MyDataset(dress_test[:100], coat_test[:100])"
   ]
  },
  {
   "cell_type": "code",
   "execution_count": 69,
   "metadata": {},
   "outputs": [],
   "source": [
    "from torch.utils.data import DataLoader\n",
    "\n",
    "train_dataloader = DataLoader(train_dataset, batch_size=16, shuffle=True)\n",
    "test_dataloader = DataLoader(test_dataset, batch_size=16, shuffle=True)"
   ]
  },
  {
   "cell_type": "code",
   "execution_count": 70,
   "metadata": {},
   "outputs": [
    {
     "name": "stdout",
     "output_type": "stream",
     "text": [
      "Using cuda device\n",
      "MyNet(\n",
      "  (nn): Sequential(\n",
      "    (0): Conv2d(1, 16, kernel_size=(3, 3), stride=(1, 1))\n",
      "    (1): ReLU()\n",
      "    (2): MaxPool2d(kernel_size=2, stride=2, padding=0, dilation=1, ceil_mode=False)\n",
      "    (3): Conv2d(16, 32, kernel_size=(3, 3), stride=(1, 1))\n",
      "    (4): ReLU()\n",
      "    (5): MaxPool2d(kernel_size=2, stride=2, padding=0, dilation=1, ceil_mode=False)\n",
      "    (6): Conv2d(32, 64, kernel_size=(3, 3), stride=(1, 1))\n",
      "    (7): Flatten(start_dim=1, end_dim=-1)\n",
      "    (8): Linear(in_features=576, out_features=16, bias=True)\n",
      "    (9): ReLU()\n",
      "    (10): Linear(in_features=16, out_features=2, bias=True)\n",
      "    (11): Softmax(dim=1)\n",
      "  )\n",
      ")\n"
     ]
    }
   ],
   "source": [
    "# Get cpu or gpu device for training.\n",
    "device = \"cuda\" if torch.cuda.is_available() else \"cpu\"\n",
    "print(f\"Using {device} device\")\n",
    "\n",
    "model = MyNet().to(device)\n",
    "print(model)"
   ]
  },
  {
   "cell_type": "code",
   "execution_count": 71,
   "metadata": {},
   "outputs": [],
   "source": [
    "loss_fn = nn.CrossEntropyLoss()\n",
    "optimizer = torch.optim.SGD(model.parameters(), lr=1e-3)"
   ]
  },
  {
   "cell_type": "code",
   "execution_count": 72,
   "metadata": {},
   "outputs": [],
   "source": [
    "def train(dataloader, model, loss_fn, optimizer):\n",
    "    size = len(dataloader.dataset)\n",
    "    model.train()\n",
    "    for batch, (X, y) in enumerate(dataloader):\n",
    "        X, y = X.to(device), y.to(device)\n",
    "\n",
    "        # Compute prediction error\n",
    "        pred = model(X)\n",
    "        loss = loss_fn(pred, y)\n",
    "\n",
    "        # Backpropagation\n",
    "        optimizer.zero_grad()\n",
    "        loss.backward()\n",
    "        optimizer.step()\n",
    "\n",
    "        if batch % 100 == 0:\n",
    "            loss, current = loss.item(), batch * len(X)\n",
    "            print(f\"loss: {loss:>7f}  [{current:>5d}/{size:>5d}]\")"
   ]
  },
  {
   "cell_type": "code",
   "execution_count": 73,
   "metadata": {},
   "outputs": [],
   "source": [
    "def test(dataloader, model, loss_fn):\n",
    "    size = len(dataloader.dataset)\n",
    "    num_batches = len(dataloader)\n",
    "    model.eval()\n",
    "    test_loss, correct = 0, 0\n",
    "    with torch.no_grad():\n",
    "        for X, y in dataloader:\n",
    "            X, y = X.to(device), y.to(device)\n",
    "            pred = model(X)\n",
    "            test_loss += loss_fn(pred, y).item()\n",
    "            correct += (pred.argmax(1) == y).type(torch.float).sum().item()\n",
    "    test_loss /= num_batches\n",
    "    correct /= size\n",
    "    print(f\"Test Error: \\n Accuracy: {(100*correct):>0.1f}%, Avg loss: {test_loss:>8f} \\n\")"
   ]
  },
  {
   "cell_type": "code",
   "execution_count": 74,
   "metadata": {},
   "outputs": [
    {
     "name": "stdout",
     "output_type": "stream",
     "text": [
      "Epoch 1\n",
      "-------------------------------\n",
      "loss: 0.612819  [    0/  500]\n",
      "Test Error: \n",
      " Accuracy: 100.0%, Avg loss: 0.605137 \n",
      "\n",
      "Epoch 2\n",
      "-------------------------------\n",
      "loss: 0.605735  [    0/  500]\n",
      "Test Error: \n",
      " Accuracy: 100.0%, Avg loss: 0.598447 \n",
      "\n",
      "Epoch 3\n",
      "-------------------------------\n",
      "loss: 0.598455  [    0/  500]\n",
      "Test Error: \n",
      " Accuracy: 100.0%, Avg loss: 0.592689 \n",
      "\n",
      "Epoch 4\n",
      "-------------------------------\n",
      "loss: 0.592937  [    0/  500]\n",
      "Test Error: \n",
      " Accuracy: 100.0%, Avg loss: 0.587696 \n",
      "\n",
      "Epoch 5\n",
      "-------------------------------\n",
      "loss: 0.588161  [    0/  500]\n",
      "Test Error: \n",
      " Accuracy: 100.0%, Avg loss: 0.582919 \n",
      "\n",
      "Epoch 6\n",
      "-------------------------------\n",
      "loss: 0.584019  [    0/  500]\n",
      "Test Error: \n",
      " Accuracy: 100.0%, Avg loss: 0.578231 \n",
      "\n",
      "Epoch 7\n",
      "-------------------------------\n",
      "loss: 0.578673  [    0/  500]\n",
      "Test Error: \n",
      " Accuracy: 100.0%, Avg loss: 0.573681 \n",
      "\n",
      "Epoch 8\n",
      "-------------------------------\n",
      "loss: 0.572535  [    0/  500]\n",
      "Test Error: \n",
      " Accuracy: 100.0%, Avg loss: 0.569074 \n",
      "\n",
      "Epoch 9\n",
      "-------------------------------\n",
      "loss: 0.570053  [    0/  500]\n",
      "Test Error: \n",
      " Accuracy: 100.0%, Avg loss: 0.564522 \n",
      "\n",
      "Epoch 10\n",
      "-------------------------------\n",
      "loss: 0.564679  [    0/  500]\n",
      "Test Error: \n",
      " Accuracy: 100.0%, Avg loss: 0.559915 \n",
      "\n",
      "Epoch 11\n",
      "-------------------------------\n",
      "loss: 0.559872  [    0/  500]\n",
      "Test Error: \n",
      " Accuracy: 100.0%, Avg loss: 0.555299 \n",
      "\n",
      "Epoch 12\n",
      "-------------------------------\n",
      "loss: 0.554613  [    0/  500]\n",
      "Test Error: \n",
      " Accuracy: 100.0%, Avg loss: 0.550714 \n",
      "\n",
      "Epoch 13\n",
      "-------------------------------\n",
      "loss: 0.552482  [    0/  500]\n",
      "Test Error: \n",
      " Accuracy: 100.0%, Avg loss: 0.545952 \n",
      "\n",
      "Epoch 14\n",
      "-------------------------------\n",
      "loss: 0.544630  [    0/  500]\n",
      "Test Error: \n",
      " Accuracy: 100.0%, Avg loss: 0.541038 \n",
      "\n",
      "Epoch 15\n",
      "-------------------------------\n",
      "loss: 0.540853  [    0/  500]\n",
      "Test Error: \n",
      " Accuracy: 100.0%, Avg loss: 0.535844 \n",
      "\n",
      "Epoch 16\n",
      "-------------------------------\n",
      "loss: 0.536047  [    0/  500]\n",
      "Test Error: \n",
      " Accuracy: 100.0%, Avg loss: 0.530401 \n",
      "\n",
      "Epoch 17\n",
      "-------------------------------\n",
      "loss: 0.531711  [    0/  500]\n",
      "Test Error: \n",
      " Accuracy: 100.0%, Avg loss: 0.524911 \n",
      "\n",
      "Epoch 18\n",
      "-------------------------------\n",
      "loss: 0.525671  [    0/  500]\n",
      "Test Error: \n",
      " Accuracy: 100.0%, Avg loss: 0.519050 \n",
      "\n",
      "Epoch 19\n",
      "-------------------------------\n",
      "loss: 0.520615  [    0/  500]\n",
      "Test Error: \n",
      " Accuracy: 100.0%, Avg loss: 0.513346 \n",
      "\n",
      "Epoch 20\n",
      "-------------------------------\n",
      "loss: 0.514683  [    0/  500]\n",
      "Test Error: \n",
      " Accuracy: 100.0%, Avg loss: 0.507370 \n",
      "\n",
      "Epoch 21\n",
      "-------------------------------\n",
      "loss: 0.507815  [    0/  500]\n",
      "Test Error: \n",
      " Accuracy: 100.0%, Avg loss: 0.501108 \n",
      "\n",
      "Epoch 22\n",
      "-------------------------------\n",
      "loss: 0.502766  [    0/  500]\n",
      "Test Error: \n",
      " Accuracy: 100.0%, Avg loss: 0.494945 \n",
      "\n",
      "Epoch 23\n",
      "-------------------------------\n",
      "loss: 0.496297  [    0/  500]\n",
      "Test Error: \n",
      " Accuracy: 100.0%, Avg loss: 0.488428 \n",
      "\n",
      "Epoch 24\n",
      "-------------------------------\n",
      "loss: 0.490811  [    0/  500]\n",
      "Test Error: \n",
      " Accuracy: 100.0%, Avg loss: 0.481665 \n",
      "\n",
      "Epoch 25\n",
      "-------------------------------\n",
      "loss: 0.482580  [    0/  500]\n",
      "Test Error: \n",
      " Accuracy: 100.0%, Avg loss: 0.474994 \n",
      "\n",
      "Epoch 26\n",
      "-------------------------------\n",
      "loss: 0.476530  [    0/  500]\n",
      "Test Error: \n",
      " Accuracy: 100.0%, Avg loss: 0.467893 \n",
      "\n",
      "Epoch 27\n",
      "-------------------------------\n",
      "loss: 0.468170  [    0/  500]\n",
      "Test Error: \n",
      " Accuracy: 100.0%, Avg loss: 0.461011 \n",
      "\n",
      "Epoch 28\n",
      "-------------------------------\n",
      "loss: 0.465549  [    0/  500]\n",
      "Test Error: \n",
      " Accuracy: 100.0%, Avg loss: 0.453313 \n",
      "\n",
      "Epoch 29\n",
      "-------------------------------\n",
      "loss: 0.451710  [    0/  500]\n",
      "Test Error: \n",
      " Accuracy: 100.0%, Avg loss: 0.445895 \n",
      "\n",
      "Epoch 30\n",
      "-------------------------------\n",
      "loss: 0.444866  [    0/  500]\n",
      "Test Error: \n",
      " Accuracy: 100.0%, Avg loss: 0.438328 \n",
      "\n",
      "Done!\n"
     ]
    }
   ],
   "source": [
    "epochs = 30\n",
    "for t in range(epochs):\n",
    "    print(f\"Epoch {t+1}\\n-------------------------------\")\n",
    "    train(train_dataloader, model, loss_fn, optimizer)\n",
    "    test(test_dataloader, model, loss_fn)\n",
    "print(\"Done!\")"
   ]
  },
  {
   "cell_type": "code",
   "execution_count": null,
   "metadata": {},
   "outputs": [],
   "source": []
  },
  {
   "cell_type": "code",
   "execution_count": null,
   "metadata": {},
   "outputs": [],
   "source": []
  },
  {
   "cell_type": "code",
   "execution_count": null,
   "metadata": {},
   "outputs": [],
   "source": [
    "class MyAE(nn.Module):\n",
    "  def __init__(self, in_width=28, in_height=28, in_channels=1) -> None:\n",
    "    super().__init__()\n",
    "\n",
    "    self.encoder = nn.Sequential(\n",
    "      nn.Conv2d(in_channels=in_channels,\n",
    "                out_channels=16,\n",
    "                kernel_size=3)\n",
    "      \n",
    "    )"
   ]
  }
 ],
 "metadata": {
  "kernelspec": {
   "display_name": "torch",
   "language": "python",
   "name": "python3"
  },
  "language_info": {
   "codemirror_mode": {
    "name": "ipython",
    "version": 3
   },
   "file_extension": ".py",
   "mimetype": "text/x-python",
   "name": "python",
   "nbconvert_exporter": "python",
   "pygments_lexer": "ipython3",
   "version": "3.9.15 (main, Nov  4 2022, 16:13:54) \n[GCC 11.2.0]"
  },
  "orig_nbformat": 4,
  "vscode": {
   "interpreter": {
    "hash": "fcb000cae946c3d61c1628be2686ea3e3aa8a44b2b5b4af9d1b18b841213f41d"
   }
  }
 },
 "nbformat": 4,
 "nbformat_minor": 2
}
