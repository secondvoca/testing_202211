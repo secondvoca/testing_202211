{
 "cells": [
  {
   "cell_type": "code",
   "execution_count": 2,
   "metadata": {},
   "outputs": [],
   "source": [
    "file_name = 'a_framework_for_intelligence.txt'\n",
    "import re "
   ]
  },
  {
   "cell_type": "code",
   "execution_count": 19,
   "metadata": {},
   "outputs": [],
   "source": [
    "msg = '''This method of representing objects allows for hierarchical\n",
    "composition. For example, the logo on the cup is also composed\n",
    "of sub-objects, such as letters and a graphic. A displacement\n",
    "vector placing the logo on the cup implicitly carries with it\n",
    "all the sub-objects of the logo. The method also allows for\n",
    "recursive structures. For example, the logo could contain a\n",
    "picture of a coffee cup with a logo. Hierarchical and recursive\n",
    "composition are fundamental elements of not only physical\n",
    "objects but language, mathematics, and other manifestations\n",
    "of intelligent thought. The key idea is that the identity and\n",
    "relative position of two previously-learned objects, even complex\n",
    "objects, can be represented efficiently by a single displacement\n",
    "vector.'''\n",
    "cr_removed = msg.replace('\\n', ' ')\n",
    "pr_removed = re.sub(\"[ (]{2}.*?[)]\", \"\", cr_removed)\n",
    "with open(file_name, 'a') as f:\n",
    "  f.write(pr_removed)\n",
    "  f.write('\\n')"
   ]
  }
 ],
 "metadata": {
  "kernelspec": {
   "display_name": "torch",
   "language": "python",
   "name": "python3"
  },
  "language_info": {
   "codemirror_mode": {
    "name": "ipython",
    "version": 3
   },
   "file_extension": ".py",
   "mimetype": "text/x-python",
   "name": "python",
   "nbconvert_exporter": "python",
   "pygments_lexer": "ipython3",
   "version": "3.9.15 (main, Nov  4 2022, 16:13:54) \n[GCC 11.2.0]"
  },
  "orig_nbformat": 4,
  "vscode": {
   "interpreter": {
    "hash": "fcb000cae946c3d61c1628be2686ea3e3aa8a44b2b5b4af9d1b18b841213f41d"
   }
  }
 },
 "nbformat": 4,
 "nbformat_minor": 2
}
