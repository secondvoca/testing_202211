{
 "cells": [
  {
   "cell_type": "markdown",
   "metadata": {},
   "source": [
    "1. underfitting and overfitting\n",
    "- methods for avoiding overfitting\n",
    "  - enlarge the amount of data\n",
    "  - decrease the complexity of a model\n",
    "  - regularization\n",
    "  \\begin{align}\n",
    "  Loss = Error(y, \\hat{y}) + \\lambda\\sum_{i=0}^N|w_i|\n",
    "  \\end{align}\n",
    "  - dropout"
   ]
  },
  {
   "cell_type": "markdown",
   "metadata": {},
   "source": [
    "2. sigmoid and binary classification\n",
    "- mean squared error and cross entropy\n",
    "  \\begin{align}\n",
    "  MSE &= \\frac{1}{2}||y - o||_2^2 \\\\\n",
    "  CE &= -\\sum_{y\\in\\{0,1\\}}P(y)\\log_2Q(y)\n",
    "  \\end{align}\n",
    "- 오차가 클때 큰 기울기 값을 갖는 것이 정당한 이유가 될 수 있는가?\n",
    "- 두 가지의 손실 함수가 특정한 문제에 더 적합한 이유는 무엇인가?"
   ]
  },
  {
   "cell_type": "code",
   "execution_count": 4,
   "metadata": {},
   "outputs": [],
   "source": [
    "import numpy as np\n",
    "def logistic_function(x, L=1, k=1, x0=0):\n",
    "  return L / (1 + np.exp(-k*(x - x0)))"
   ]
  },
  {
   "cell_type": "code",
   "execution_count": 6,
   "metadata": {},
   "outputs": [
    {
     "data": {
      "image/png": "[encoded data removed]",
      "text/plain": [
       "<Figure size 640x480 with 1 Axes>"
      ]
     },
     "metadata": {},
     "output_type": "display_data"
    }
   ],
   "source": [
    "x = np.linspace(-3, 3, 101)\n",
    "y = logistic_function(x)\n",
    "\n",
    "import matplotlib.pyplot as plt\n",
    "\n",
    "plt.plot(x, y)\n",
    "plt.grid()"
   ]
  },
  {
   "cell_type": "markdown",
   "metadata": {},
   "source": [
    "3. exercise, iris"
   ]
  },
  {
   "cell_type": "code",
   "execution_count": 7,
   "metadata": {},
   "outputs": [],
   "source": [
    "import torch\n",
    "import torch.nn as nn\n",
    "import torch.nn.functional as F\n",
    "import torch.optim as optim"
   ]
  },
  {
   "cell_type": "code",
   "execution_count": 8,
   "metadata": {},
   "outputs": [],
   "source": [
    "x_data = [\n",
    "  [1,2],\n",
    "  [2,3],\n",
    "  [3,1],\n",
    "  [4,3],\n",
    "  [5,3],\n",
    "  [6,2]\n",
    "]\n",
    "y_data = [\n",
    "  [0],\n",
    "  [0],\n",
    "  [0],\n",
    "  [1],\n",
    "  [1],\n",
    "  [1],\n",
    "]\n",
    "\n",
    "x_train = torch.FloatTensor(x_data)\n",
    "y_train = torch.FloatTensor(y_data)"
   ]
  },
  {
   "cell_type": "code",
   "execution_count": 12,
   "metadata": {},
   "outputs": [],
   "source": [
    "model = nn.Sequential(\n",
    "  nn.Linear(2, 1),\n",
    "  nn.Sigmoid()\n",
    ")\n",
    "\n",
    "optimizer = optim.SGD(model.parameters(), lr=1)"
   ]
  },
  {
   "cell_type": "code",
   "execution_count": 13,
   "metadata": {},
   "outputs": [
    {
     "name": "stdout",
     "output_type": "stream",
     "text": [
      "0: 0.5 - 1.2103852033615112\n",
      "100: 1.0 - 0.1340366154909134\n",
      "200: 1.0 - 0.08040323853492737\n",
      "300: 1.0 - 0.057778388261795044\n",
      "400: 1.0 - 0.04522598907351494\n",
      "500: 1.0 - 0.03721140697598457\n",
      "600: 1.0 - 0.03163684532046318\n",
      "700: 1.0 - 0.027529016137123108\n",
      "800: 1.0 - 0.0243732538074255\n",
      "900: 1.0 - 0.021871313452720642\n",
      "1000: 1.0 - 0.019838212057948112\n"
     ]
    }
   ],
   "source": [
    "nb_epochs = 1000\n",
    "for epoch in range(nb_epochs + 1):\n",
    "  hypothesis = model(x_train)\n",
    "  cost = F.binary_cross_entropy(hypothesis, y_train)\n",
    "\n",
    "  optimizer.zero_grad()\n",
    "  cost.backward()\n",
    "  optimizer.step()\n",
    "\n",
    "  if epoch % 100 == 0:\n",
    "    prediction = hypothesis >= torch.FloatTensor([[0.5]])\n",
    "    correct_prediction = prediction.float() == y_train\n",
    "    accuracy = correct_prediction.sum().item() / len(correct_prediction)\n",
    "    print(f'{epoch}: {accuracy} - {cost}')"
   ]
  },
  {
   "cell_type": "code",
   "execution_count": 14,
   "metadata": {},
   "outputs": [
    {
     "name": "stdout",
     "output_type": "stream",
     "text": [
      "True\n"
     ]
    }
   ],
   "source": [
    "new_data = torch.FloatTensor([[4,2]])\n",
    "y_pred = model(new_data) >= torch.FloatTensor([[0.5]])\n",
    "print(y_pred.item())"
   ]
  },
  {
   "cell_type": "code",
   "execution_count": 15,
   "metadata": {},
   "outputs": [],
   "source": [
    "import torch\n",
    "import torch.nn as nn\n",
    "import torch.nn.functional as F\n",
    "import torch.optim as optim\n",
    "from torch.utils.data import TensorDataset, DataLoader\n",
    "import matplotlib.pyplot as plt\n",
    "%matplotlib inline"
   ]
  },
  {
   "cell_type": "code",
   "execution_count": 16,
   "metadata": {},
   "outputs": [],
   "source": [
    "from sklearn.datasets import load_iris"
   ]
  },
  {
   "cell_type": "code",
   "execution_count": 17,
   "metadata": {},
   "outputs": [],
   "source": [
    "iris = load_iris()\n",
    "x_train = iris.data[:100]\n",
    "y_train = iris.target[:100]\n",
    "x_train = torch.tensor(x_train, dtype=torch.float32)\n",
    "y_train = torch.tensor(y_train, dtype=torch.float32)"
   ]
  },
  {
   "cell_type": "code",
   "execution_count": 18,
   "metadata": {},
   "outputs": [
    {
     "name": "stdout",
     "output_type": "stream",
     "text": [
      "(101,)\n",
      "(101,)\n"
     ]
    }
   ],
   "source": [
    "print(y.shape)\n",
    "y_train = torch.unsqueeze(y_train, 1)\n",
    "print(y.shape)"
   ]
  },
  {
   "cell_type": "code",
   "execution_count": 19,
   "metadata": {},
   "outputs": [],
   "source": [
    "dataset = TensorDataset(x_train, y_train)\n",
    "dataloader = DataLoader(dataset, batch_size=10, shuffle=True)"
   ]
  },
  {
   "cell_type": "code",
   "execution_count": 23,
   "metadata": {},
   "outputs": [],
   "source": [
    "model = nn.Sequential(\n",
    "  nn.Linear(4, 1),\n",
    "  nn.Sigmoid()\n",
    ")\n",
    "\n",
    "optimizer = optim.SGD(model.parameters(), lr=1)"
   ]
  },
  {
   "cell_type": "code",
   "execution_count": 24,
   "metadata": {},
   "outputs": [],
   "source": [
    "nb_epochs = 50\n",
    "cost_history = []\n",
    "accuracy_history = []\n",
    "for epoch in range(nb_epochs + 1):\n",
    "  for idx, (x_train, y_train) in enumerate(dataloader):\n",
    "    hypothesis = model(x_train)\n",
    "    cost = F.binary_cross_entropy(hypothesis, y_train)\n",
    "\n",
    "    optimizer.zero_grad()\n",
    "    cost.backward()\n",
    "    optimizer.step()\n",
    "\n",
    "    prediction = hypothesis >= torch.FloatTensor([[0.5]])\n",
    "    correct_prediction = prediction.float() == y_train\n",
    "    accuracy = correct_prediction.sum().item() / len(correct_prediction)\n",
    "    \n",
    "    cost_history.append(cost.item())\n",
    "    accuracy_history.append(accuracy)"
   ]
  },
  {
   "cell_type": "code",
   "execution_count": 25,
   "metadata": {},
   "outputs": [
    {
     "data": {
      "image/png": "[encoded data removed]",
      "text/plain": [
       "<Figure size 640x480 with 2 Axes>"
      ]
     },
     "metadata": {},
     "output_type": "display_data"
    }
   ],
   "source": [
    "plt.rcParams['axes.grid'] = True\n",
    "_, axes = plt.subplots(2, 1)\n",
    "axes[0].plot(cost_history, 'r--')\n",
    "axes[0].set_title('cost')\n",
    "axes[1].plot(accuracy_history, 'b--')\n",
    "axes[1].set_title('accuracy')\n",
    "plt.tight_layout()"
   ]
  },
  {
   "cell_type": "code",
   "execution_count": null,
   "metadata": {},
   "outputs": [],
   "source": []
  }
 ],
 "metadata": {
  "kernelspec": {
   "display_name": "Python 3.9.15 ('torch')",
   "language": "python",
   "name": "python3"
  },
  "language_info": {
   "codemirror_mode": {
    "name": "ipython",
    "version": 3
   },
   "file_extension": ".py",
   "mimetype": "text/x-python",
   "name": "python",
   "nbconvert_exporter": "python",
   "pygments_lexer": "ipython3",
   "version": "3.9.15 (main, Nov  4 2022, 16:13:54) \n[GCC 11.2.0]"
  },
  "orig_nbformat": 4,
  "vscode": {
   "interpreter": {
    "hash": "fcb000cae946c3d61c1628be2686ea3e3aa8a44b2b5b4af9d1b18b841213f41d"
   }
  }
 },
 "nbformat": 4,
 "nbformat_minor": 2
}
