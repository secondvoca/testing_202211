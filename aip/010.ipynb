{
 "cells": [
  {
   "cell_type": "code",
   "execution_count": 1,
   "metadata": {},
   "outputs": [],
   "source": [
    "import torch\n",
    "from torch import nn"
   ]
  },
  {
   "cell_type": "code",
   "execution_count": 2,
   "metadata": {},
   "outputs": [
    {
     "name": "stdout",
     "output_type": "stream",
     "text": [
      "torch.Size([8, 3, 32, 32])\n"
     ]
    }
   ],
   "source": [
    "in_feature = torch.randn([8,3,32,32])\n",
    "print(in_feature.shape)"
   ]
  },
  {
   "cell_type": "code",
   "execution_count": 3,
   "metadata": {},
   "outputs": [
    {
     "name": "stdout",
     "output_type": "stream",
     "text": [
      "torch.Size([8, 10, 30, 30])\n"
     ]
    }
   ],
   "source": [
    "conv2d = nn.Conv2d(in_channels=3,\n",
    "                   out_channels=10,\n",
    "                   kernel_size=(3,3))\n",
    "out_feature = conv2d(in_feature)\n",
    "print(out_feature.shape)                   "
   ]
  },
  {
   "cell_type": "code",
   "execution_count": 4,
   "metadata": {},
   "outputs": [
    {
     "name": "stdout",
     "output_type": "stream",
     "text": [
      "torch.Size([8, 10, 32, 32])\n"
     ]
    }
   ],
   "source": [
    "conv2d_padding = nn.Conv2d(in_channels=3,\n",
    "                           out_channels=10,\n",
    "                           kernel_size=3,\n",
    "                           padding=1)\n",
    "out_feature_padding = conv2d_padding(in_feature)\n",
    "print(out_feature_padding.shape)                           "
   ]
  },
  {
   "cell_type": "code",
   "execution_count": 5,
   "metadata": {},
   "outputs": [
    {
     "name": "stdout",
     "output_type": "stream",
     "text": [
      "torch.Size([8, 10, 16, 16])\n"
     ]
    }
   ],
   "source": [
    "conv2d_stride = nn.Conv2d(in_channels=3,\n",
    "                          out_channels=10,\n",
    "                          kernel_size=(3,3),\n",
    "                          padding=1,\n",
    "                          stride=(2,2))\n",
    "out_feature_stride = conv2d_stride(in_feature)\n",
    "print(out_feature_stride.shape)                           "
   ]
  },
  {
   "cell_type": "code",
   "execution_count": null,
   "metadata": {},
   "outputs": [],
   "source": []
  }
 ],
 "metadata": {
  "kernelspec": {
   "display_name": "torch",
   "language": "python",
   "name": "python3"
  },
  "language_info": {
   "codemirror_mode": {
    "name": "ipython",
    "version": 3
   },
   "file_extension": ".py",
   "mimetype": "text/x-python",
   "name": "python",
   "nbconvert_exporter": "python",
   "pygments_lexer": "ipython3",
   "version": "3.9.15 (main, Nov  4 2022, 16:13:54) \n[GCC 11.2.0]"
  },
  "orig_nbformat": 4,
  "vscode": {
   "interpreter": {
    "hash": "fcb000cae946c3d61c1628be2686ea3e3aa8a44b2b5b4af9d1b18b841213f41d"
   }
  }
 },
 "nbformat": 4,
 "nbformat_minor": 2
}
