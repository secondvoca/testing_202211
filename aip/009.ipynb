{
 "cells": [
  {
   "cell_type": "code",
   "execution_count": 2,
   "metadata": {},
   "outputs": [],
   "source": [
    "import torch\n",
    "from torch import nn"
   ]
  },
  {
   "cell_type": "code",
   "execution_count": 3,
   "metadata": {},
   "outputs": [],
   "source": [
    "device = 'cuda' if torch.cuda.is_available() else 'cpu'\n",
    "x = torch.FloatTensor([\n",
    "  [0,0],\n",
    "  [0,1],\n",
    "  [1,0],\n",
    "  [1,1],\n",
    "]).to(device)\n",
    "y = torch.FloatTensor([[0],[1],[1],[0],]).to(device)"
   ]
  },
  {
   "cell_type": "code",
   "execution_count": 5,
   "metadata": {},
   "outputs": [],
   "source": [
    "model = nn.Sequential(\n",
    "  nn.Linear(2, 10),\n",
    "  nn.Sigmoid(),\n",
    "  nn.Linear(10, 10),\n",
    "  nn.Sigmoid(),\n",
    "  nn.Linear(10, 10),\n",
    "  nn.Sigmoid(),\n",
    "  nn.Linear(10, 1),\n",
    "  nn.Sigmoid(),\n",
    ").to(device)"
   ]
  },
  {
   "cell_type": "code",
   "execution_count": 8,
   "metadata": {},
   "outputs": [],
   "source": [
    "criterion = nn.BCELoss().to(device)\n",
    "optimizer = torch.optim.SGD(model.parameters(), lr=1)"
   ]
  },
  {
   "cell_type": "code",
   "execution_count": 10,
   "metadata": {},
   "outputs": [
    {
     "name": "stdout",
     "output_type": "stream",
     "text": [
      "epoch: 0, cost: 0.0001444\n",
      "epoch: 1000, cost: 0.000117\n",
      "epoch: 2000, cost: 9.811e-05\n",
      "epoch: 3000, cost: 8.436e-05\n",
      "epoch: 4000, cost: 7.393e-05\n",
      "epoch: 5000, cost: 6.575e-05\n",
      "epoch: 6000, cost: 5.916e-05\n",
      "epoch: 7000, cost: 5.374e-05\n",
      "epoch: 8000, cost: 4.92e-05\n",
      "epoch: 9000, cost: 4.538e-05\n",
      "epoch: 10000, cost: 4.21e-05\n"
     ]
    }
   ],
   "source": [
    "for epoch in range(10001):\n",
    "  optimizer.zero_grad()\n",
    "  hypothesis = model(x)\n",
    "\n",
    "  cost = criterion(hypothesis, y)\n",
    "  cost.backward()\n",
    "  optimizer.step()\n",
    "\n",
    "  if epoch%1000 == 0:\n",
    "    print(f'epoch: {epoch}, cost: {cost:>0.4}')\n",
    "    torch.save(model, f'mymodel_{epoch:04d}.pt')"
   ]
  },
  {
   "cell_type": "code",
   "execution_count": 12,
   "metadata": {},
   "outputs": [
    {
     "name": "stdout",
     "output_type": "stream",
     "text": [
      "hypothesis:\n",
      "[[2.7948347e-05]\n",
      " [9.9995732e-01]\n",
      " [9.9996006e-01]\n",
      " [5.7813952e-05]]\n",
      "predicted:\n",
      "[[0.]\n",
      " [1.]\n",
      " [1.]\n",
      " [0.]]\n",
      "real y:\n",
      "[[0.]\n",
      " [1.]\n",
      " [1.]\n",
      " [0.]]\n",
      "accuracy: 1.0\n"
     ]
    }
   ],
   "source": [
    "with torch.no_grad():\n",
    "  hypothesis = model(x)\n",
    "  predicted = (hypothesis > 0.5).float()\n",
    "  accuracy = (predicted == y).float().mean()\n",
    "  print(f'hypothesis:\\n{hypothesis.detach().cpu().numpy()}')\n",
    "  print(f'predicted:\\n{predicted.detach().cpu().numpy()}')\n",
    "  print(f'real y:\\n{y.cpu().numpy()}')\n",
    "  print(f'accuracy: {accuracy.item()}')"
   ]
  },
  {
   "cell_type": "code",
   "execution_count": 14,
   "metadata": {},
   "outputs": [
    {
     "name": "stdout",
     "output_type": "stream",
     "text": [
      "hypothesis:\n",
      "[[9.4316805e-05]\n",
      " [9.9985385e-01]\n",
      " [9.9986172e-01]\n",
      " [1.9860093e-04]]\n",
      "predicted:\n",
      "[[0.]\n",
      " [1.]\n",
      " [1.]\n",
      " [0.]]\n",
      "real y:\n",
      "[[0.]\n",
      " [1.]\n",
      " [1.]\n",
      " [0.]]\n",
      "accuracy: 1.0\n"
     ]
    }
   ],
   "source": [
    "tmp_model = torch.load('mymodel_0000.pt', map_location=device)\n",
    "\n",
    "with torch.no_grad():\n",
    "  hypothesis = tmp_model(x)\n",
    "  predicted = (hypothesis > 0.5).float()\n",
    "  accuracy = (predicted == y).float().mean()\n",
    "  print(f'hypothesis:\\n{hypothesis.detach().cpu().numpy()}')\n",
    "  print(f'predicted:\\n{predicted.detach().cpu().numpy()}')\n",
    "  print(f'real y:\\n{y.cpu().numpy()}')\n",
    "  print(f'accuracy: {accuracy.item()}')"
   ]
  },
  {
   "cell_type": "code",
   "execution_count": null,
   "metadata": {},
   "outputs": [],
   "source": []
  }
 ],
 "metadata": {
  "kernelspec": {
   "display_name": "torch",
   "language": "python",
   "name": "python3"
  },
  "language_info": {
   "codemirror_mode": {
    "name": "ipython",
    "version": 3
   },
   "file_extension": ".py",
   "mimetype": "text/x-python",
   "name": "python",
   "nbconvert_exporter": "python",
   "pygments_lexer": "ipython3",
   "version": "3.9.15 (main, Nov  4 2022, 16:13:54) \n[GCC 11.2.0]"
  },
  "orig_nbformat": 4,
  "vscode": {
   "interpreter": {
    "hash": "fcb000cae946c3d61c1628be2686ea3e3aa8a44b2b5b4af9d1b18b841213f41d"
   }
  }
 },
 "nbformat": 4,
 "nbformat_minor": 2
}
