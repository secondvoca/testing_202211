{
 "cells": [
  {
   "cell_type": "code",
   "execution_count": 3,
   "metadata": {},
   "outputs": [],
   "source": [
    "import torch\n",
    "from torch import nn"
   ]
  },
  {
   "cell_type": "code",
   "execution_count": 14,
   "metadata": {},
   "outputs": [],
   "source": [
    "x = torch.FloatTensor([\n",
    "  [0,0],[0,1],[1,0],[1,1]\n",
    "])\n",
    "y = torch.FloatTensor([\n",
    "  [0],[1],[1],[1]\n",
    "])"
   ]
  },
  {
   "cell_type": "code",
   "execution_count": 15,
   "metadata": {},
   "outputs": [],
   "source": [
    "linear = nn.Linear(2, 1, bias=True)\n",
    "sigmoid = nn.Sigmoid()\n",
    "model = nn.Sequential(\n",
    "  linear,\n",
    "  sigmoid\n",
    ")"
   ]
  },
  {
   "cell_type": "code",
   "execution_count": 16,
   "metadata": {},
   "outputs": [],
   "source": [
    "criterion = nn.BCELoss()\n",
    "optimizer = torch.optim.SGD(\n",
    "  model.parameters(),\n",
    "  lr=1\n",
    ")"
   ]
  },
  {
   "cell_type": "code",
   "execution_count": 17,
   "metadata": {},
   "outputs": [
    {
     "name": "stdout",
     "output_type": "stream",
     "text": [
      "epoch: 0, cost: 0.43009600043296814\n",
      "epoch: 1000, cost: 0.009258750826120377\n",
      "epoch: 2000, cost: 0.0045868586748838425\n",
      "epoch: 3000, cost: 0.0030442969873547554\n",
      "epoch: 4000, cost: 0.0022772159427404404\n",
      "epoch: 5000, cost: 0.0018185486551374197\n",
      "epoch: 6000, cost: 0.00151349906809628\n",
      "epoch: 7000, cost: 0.0012960556196048856\n",
      "epoch: 8000, cost: 0.001133146695792675\n",
      "epoch: 9000, cost: 0.0010066538816317916\n"
     ]
    }
   ],
   "source": [
    "for epoch in range(10000):\n",
    "  hypothesis = model(x)\n",
    "  cost = criterion(hypothesis, y)\n",
    "\n",
    "  optimizer.zero_grad()\n",
    "  cost.backward()\n",
    "  optimizer.step()\n",
    "\n",
    "  if epoch % 1000 == 0:\n",
    "    print(f'epoch: {epoch}, cost: {cost}')"
   ]
  },
  {
   "cell_type": "code",
   "execution_count": 18,
   "metadata": {},
   "outputs": [
    {
     "name": "stdout",
     "output_type": "stream",
     "text": [
      "hypothesis: [[0.00201089]\n",
      " [0.99919575]\n",
      " [0.99919575]\n",
      " [1.        ]]\n",
      "predicted: [[0.]\n",
      " [1.]\n",
      " [1.]\n",
      " [1.]]\n",
      "truth: [[0.]\n",
      " [1.]\n",
      " [1.]\n",
      " [1.]]\n",
      "accuracy: 1.0\n"
     ]
    }
   ],
   "source": [
    "with torch.no_grad():\n",
    "  hypothesis = model(x)\n",
    "  predicted = (hypothesis > 0.5).float()\n",
    "  accuracy = (predicted == y).float().mean()\n",
    "  \n",
    "  print(f'hypothesis: {hypothesis.detach().numpy()}')\n",
    "  print(f'predicted: {predicted.detach().numpy()}')\n",
    "  print(f'truth: {y.numpy()}')\n",
    "  print(f'accuracy: {accuracy.item()}')\n"
   ]
  },
  {
   "attachments": {},
   "cell_type": "markdown",
   "metadata": {},
   "source": [
    "# multi-layer"
   ]
  },
  {
   "cell_type": "code",
   "execution_count": 19,
   "metadata": {},
   "outputs": [],
   "source": [
    "x = torch.FloatTensor([\n",
    "  [0,0],[0,1],[1,0],[1,1]\n",
    "])\n",
    "y = torch.FloatTensor([\n",
    "  [0],[1],[1],[0]\n",
    "])"
   ]
  },
  {
   "cell_type": "code",
   "execution_count": 24,
   "metadata": {},
   "outputs": [],
   "source": [
    "mapping = nn.Linear(2, 2)\n",
    "classifier = nn.Linear(2, 1)\n",
    "sigmoid = nn.Sigmoid()\n",
    "model = nn.Sequential(\n",
    "  mapping,\n",
    "  sigmoid,\n",
    "  classifier,\n",
    "  sigmoid\n",
    ")"
   ]
  },
  {
   "cell_type": "code",
   "execution_count": 25,
   "metadata": {},
   "outputs": [],
   "source": [
    "criterion = nn.BCELoss()\n",
    "optimizer = torch.optim.SGD(\n",
    "  model.parameters(),\n",
    "  lr=1\n",
    ")"
   ]
  },
  {
   "cell_type": "code",
   "execution_count": 26,
   "metadata": {},
   "outputs": [
    {
     "name": "stdout",
     "output_type": "stream",
     "text": [
      "epoch: 0, cost: 0.6943880319595337\n",
      "epoch: 1000, cost: 0.6931164264678955\n",
      "epoch: 2000, cost: 0.3275474011898041\n",
      "epoch: 3000, cost: 0.010470470413565636\n",
      "epoch: 4000, cost: 0.005010042805224657\n",
      "epoch: 5000, cost: 0.0032745397184044123\n",
      "epoch: 6000, cost: 0.002427254803478718\n",
      "epoch: 7000, cost: 0.0019264158327132463\n",
      "epoch: 8000, cost: 0.0015959982993081212\n",
      "epoch: 9000, cost: 0.0013619043165817857\n"
     ]
    }
   ],
   "source": [
    "for epoch in range(10000):\n",
    "  hypothesis = model(x)\n",
    "  cost = criterion(hypothesis, y)\n",
    "\n",
    "  optimizer.zero_grad()\n",
    "  cost.backward()\n",
    "  optimizer.step()\n",
    "\n",
    "  if epoch % 1000 == 0:\n",
    "    print(f'epoch: {epoch}, cost: {cost}')"
   ]
  },
  {
   "cell_type": "code",
   "execution_count": 27,
   "metadata": {},
   "outputs": [
    {
     "name": "stdout",
     "output_type": "stream",
     "text": [
      "hypothesis: [[0.00152196]\n",
      " [0.9989349 ]\n",
      " [0.9989349 ]\n",
      " [0.0010944 ]]\n",
      "predicted: [[0.]\n",
      " [1.]\n",
      " [1.]\n",
      " [0.]]\n",
      "truth: [[0.]\n",
      " [1.]\n",
      " [1.]\n",
      " [0.]]\n",
      "accuracy: 1.0\n"
     ]
    }
   ],
   "source": [
    "with torch.no_grad():\n",
    "  hypothesis = model(x)\n",
    "  predicted = (hypothesis > 0.5).float()\n",
    "  accuracy = (predicted == y).float().mean()\n",
    "  \n",
    "  print(f'hypothesis: {hypothesis.detach().numpy()}')\n",
    "  print(f'predicted: {predicted.detach().numpy()}')\n",
    "  print(f'truth: {y.numpy()}')\n",
    "  print(f'accuracy: {accuracy.item()}')\n"
   ]
  },
  {
   "cell_type": "code",
   "execution_count": null,
   "metadata": {},
   "outputs": [],
   "source": []
  }
 ],
 "metadata": {
  "kernelspec": {
   "display_name": "torch",
   "language": "python",
   "name": "python3"
  },
  "language_info": {
   "codemirror_mode": {
    "name": "ipython",
    "version": 3
   },
   "file_extension": ".py",
   "mimetype": "text/x-python",
   "name": "python",
   "nbconvert_exporter": "python",
   "pygments_lexer": "ipython3",
   "version": "3.9.15"
  },
  "orig_nbformat": 4,
  "vscode": {
   "interpreter": {
    "hash": "fcb000cae946c3d61c1628be2686ea3e3aa8a44b2b5b4af9d1b18b841213f41d"
   }
  }
 },
 "nbformat": 4,
 "nbformat_minor": 2
}
