{
 "cells": [
  {
   "cell_type": "code",
   "execution_count": 1,
   "metadata": {},
   "outputs": [
    {
     "data": {
      "text/plain": [
       "array([0.19140421, 0.11836924])"
      ]
     },
     "execution_count": 1,
     "metadata": {},
     "output_type": "execute_result"
    }
   ],
   "source": [
    "import numpy as np\n",
    "\n",
    "np.random.rand(2)"
   ]
  },
  {
   "cell_type": "code",
   "execution_count": 5,
   "metadata": {},
   "outputs": [
    {
     "data": {
      "text/html": [
       "<div>\n",
       "<style scoped>\n",
       "    .dataframe tbody tr th:only-of-type {\n",
       "        vertical-align: middle;\n",
       "    }\n",
       "\n",
       "    .dataframe tbody tr th {\n",
       "        vertical-align: top;\n",
       "    }\n",
       "\n",
       "    .dataframe thead th {\n",
       "        text-align: right;\n",
       "    }\n",
       "</style>\n",
       "<table border=\"1\" class=\"dataframe\">\n",
       "  <thead>\n",
       "    <tr style=\"text-align: right;\">\n",
       "      <th></th>\n",
       "      <th>1</th>\n",
       "      <th>2</th>\n",
       "      <th>3</th>\n",
       "      <th>4</th>\n",
       "      <th>5</th>\n",
       "      <th>6</th>\n",
       "      <th>7</th>\n",
       "      <th>8</th>\n",
       "      <th>9</th>\n",
       "      <th>10</th>\n",
       "    </tr>\n",
       "  </thead>\n",
       "  <tbody>\n",
       "  </tbody>\n",
       "</table>\n",
       "</div>"
      ],
      "text/plain": [
       "Empty DataFrame\n",
       "Columns: [1, 2, 3, 4, 5, 6, 7, 8, 9, 10]\n",
       "Index: []"
      ]
     },
     "execution_count": 5,
     "metadata": {},
     "output_type": "execute_result"
    }
   ],
   "source": [
    "import pandas as pd\n",
    "\n",
    "df = pd.read_csv('sample.csv')\n",
    "df"
   ]
  },
  {
   "cell_type": "code",
   "execution_count": 3,
   "metadata": {},
   "outputs": [
    {
     "name": "stdout",
     "output_type": "stream",
     "text": [
      "Thu Nov 10 11:00:45 2022       \n",
      "+-----------------------------------------------------------------------------+\n",
      "| NVIDIA-SMI 510.85.02    Driver Version: 510.85.02    CUDA Version: 11.6     |\n",
      "|-------------------------------+----------------------+----------------------+\n",
      "| GPU  Name        Persistence-M| Bus-Id        Disp.A | Volatile Uncorr. ECC |\n",
      "| Fan  Temp  Perf  Pwr:Usage/Cap|         Memory-Usage | GPU-Util  Compute M. |\n",
      "|                               |                      |               MIG M. |\n",
      "|===============================+======================+======================|\n",
      "|   0  NVIDIA A100 80G...  Off  | 00000000:65:00.0 Off |                    0 |\n",
      "| N/A   32C    P0    64W / 300W |   9747MiB / 81920MiB |      0%      Default |\n",
      "|                               |                      |             Disabled |\n",
      "+-------------------------------+----------------------+----------------------+\n",
      "|   1  NVIDIA A100 80G...  Off  | 00000000:B3:00.0 Off |                    0 |\n",
      "| N/A   31C    P0    39W / 300W |     35MiB / 81920MiB |      0%      Default |\n",
      "|                               |                      |             Disabled |\n",
      "+-------------------------------+----------------------+----------------------+\n",
      "                                                                               \n",
      "+-----------------------------------------------------------------------------+\n",
      "| Processes:                                                                  |\n",
      "|  GPU   GI   CI        PID   Type   Process name                  GPU Memory |\n",
      "|        ID   ID                                                   Usage      |\n",
      "|=============================================================================|\n",
      "|    0   N/A  N/A      1332      G   /usr/lib/xorg/Xorg                 35MiB |\n",
      "|    0   N/A  N/A   3767152      C   /usr/bin/python3                 9709MiB |\n",
      "|    1   N/A  N/A      1332      G   /usr/lib/xorg/Xorg                 35MiB |\n",
      "+-----------------------------------------------------------------------------+\n"
     ]
    }
   ],
   "source": [
    "!nvidia-smi"
   ]
  },
  {
   "cell_type": "code",
   "execution_count": 4,
   "metadata": {},
   "outputs": [
    {
     "name": "stdout",
     "output_type": "stream",
     "text": [
      "              total        used        free      shared  buff/cache   available\n",
      "Mem:          251Gi        19Gi        92Gi        17Mi       139Gi       229Gi\n",
      "스왑:       2.0Gi       226Mi       1.8Gi\n"
     ]
    }
   ],
   "source": [
    "!free -h"
   ]
  },
  {
   "cell_type": "code",
   "execution_count": 6,
   "metadata": {},
   "outputs": [
    {
     "name": "stdout",
     "output_type": "stream",
     "text": [
      "Filesystem      Size  Used Avail Use% Mounted on\n",
      "udev            126G     0  126G   0% /dev\n",
      "tmpfs            26G  2.6M   26G   1% /run\n",
      "/dev/nvme0n1p5  1.8T  616G  1.1T  36% /\n",
      "tmpfs           126G     0  126G   0% /dev/shm\n",
      "tmpfs           5.0M  4.0K  5.0M   1% /run/lock\n",
      "tmpfs           126G     0  126G   0% /sys/fs/cgroup\n",
      "/dev/loop0      128K  128K     0 100% /snap/bare/5\n",
      "/dev/loop1      347M  347M     0 100% /snap/gnome-3-38-2004/115\n",
      "/dev/loop4       46M   46M     0 100% /snap/snap-store/592\n",
      "/dev/loop6       66M   66M     0 100% /snap/gtk-common-themes/1519\n",
      "/dev/loop9       92M   92M     0 100% /snap/gtk-common-themes/1535\n",
      "/dev/nvme0n1p1  511M  4.0K  511M   1% /boot/efi\n",
      "tmpfs            26G   20K   26G   1% /run/user/125\n",
      "/dev/loop10      46M   46M     0 100% /snap/snap-store/599\n",
      "/dev/loop5       48M   48M     0 100% /snap/snapd/17029\n",
      "/dev/loop2      347M  347M     0 100% /snap/gnome-3-38-2004/119\n",
      "/dev/loop8       48M   48M     0 100% /snap/snapd/17336\n",
      "/dev/loop12      64M   64M     0 100% /snap/core20/1634\n",
      "/dev/loop3       64M   64M     0 100% /snap/core20/1695\n",
      "tmpfs            26G  8.0K   26G   1% /run/user/1006\n"
     ]
    }
   ],
   "source": [
    "!df -h"
   ]
  },
  {
   "cell_type": "code",
   "execution_count": 1,
   "metadata": {},
   "outputs": [
    {
     "name": "stdout",
     "output_type": "stream",
     "text": [
      "/bin/bash: jt: command not found\r\n"
     ]
    }
   ],
   "source": [
    "!jt -f consolas"
   ]
  }
 ],
 "metadata": {
  "kernelspec": {
   "display_name": "Python 3 (ipykernel)",
   "language": "python",
   "name": "python3"
  },
  "language_info": {
   "codemirror_mode": {
    "name": "ipython",
    "version": 3
   },
   "file_extension": ".py",
   "mimetype": "text/x-python",
   "name": "python",
   "nbconvert_exporter": "python",
   "pygments_lexer": "ipython3",
   "version": "3.8.10"
  },
  "vscode": {
   "interpreter": {
    "hash": "5ed6ae99fa2f2c893b46e9c3ffedf82005d3c8eda6c4fd870109113461b9c1cb"
   }
  }
 },
 "nbformat": 4,
 "nbformat_minor": 2
}
